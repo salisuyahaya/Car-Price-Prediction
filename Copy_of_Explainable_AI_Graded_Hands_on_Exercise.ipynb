{
  "nbformat": 4,
  "nbformat_minor": 0,
  "metadata": {
    "colab": {
      "provenance": [],
      "include_colab_link": true
    },
    "kernelspec": {
      "name": "python3",
      "display_name": "Python 3"
    },
    "language_info": {
      "name": "python"
    }
  },
  "cells": [
    {
      "cell_type": "markdown",
      "metadata": {
        "id": "view-in-github",
        "colab_type": "text"
      },
      "source": [
        "<a href=\"https://colab.research.google.com/github/salisuyahaya/Car-Price-Prediction/blob/gh-pages/Copy_of_Explainable_AI_Graded_Hands_on_Exercise.ipynb\" target=\"_parent\"><img src=\"https://colab.research.google.com/assets/colab-badge.svg\" alt=\"Open In Colab\"/></a>"
      ]
    },
    {
      "cell_type": "markdown",
      "metadata": {
        "id": "UAUF8RiUwTnS"
      },
      "source": [
        "### **Overview**\n",
        "\n",
        "Throughout this assignment, you will be performing specific well-defined tasks that’ll strengthen your concepts in Explainable AI. We will be using the Breast Cancer Dataset and here is a brief context about the same:\n",
        "\n",
        "Breast cancer is a type of cancer that starts in the breast. Cancer starts when cells begin to grow out of control. Breast cancer cells usually form a tumor that can often be seen on an x-ray or felt as a lump. Breast cancer occurs almost entirely in women, but men can get breast cancer, too.\n",
        "A benign tumor is a tumor that does not invade its surrounding tissue or spread around the body. A malignant tumor is a tumor that may invade its surrounding tissue or spread around the body.\n",
        "\n",
        "As part of the assignment, you will have to accomplish the below tasks.\n",
        "\n",
        "**Author:** Ayoub Berdeddouch"
      ]
    },
    {
      "cell_type": "markdown",
      "metadata": {
        "id": "bNbrokP4gXzg"
      },
      "source": [
        "###**Dataset**\n",
        "\n",
        "Dataset Link: https://raw.githubusercontent.com/dphi-official/Datasets/master/breast_cancer/Training_set_breastcancer.csv\n",
        "\n",
        "**About the dataset:**\n",
        "\n",
        "Different features related to the breast are computed from a digitized image of a fine needle aspirate (FNA) of a breast mass. They describe the characteristics of the cell nuclei present in the image.\n",
        "\n",
        "\n",
        "* id: Id number\n",
        "* agnosis: Cancer is Malignant or Benign (M = malignant, B = benign) - target variable\n",
        "\n",
        "Other 20 features contain information about following 10 real valued features\n",
        "\n",
        "* radius (mean of distances from center to points on the perimeter)\n",
        "* texture (standard deviation of gray-scale values) \n",
        "* perimeter \n",
        "* area \n",
        "* smoothness (local variation in radius lengths) \n",
        "* compactness (perimeter^2 / area - 1.0) \n",
        "* concavity (severity of concave portions of the contour) \n",
        "* concave points (number of concave portions of the contour) \n",
        "* symmetry  \n",
        "* fractal dimension (\"coastline approximation\" - 1)"
      ]
    },
    {
      "cell_type": "markdown",
      "metadata": {
        "id": "XkXMuVJKwY5R"
      },
      "source": [
        "# Task 1"
      ]
    },
    {
      "cell_type": "markdown",
      "metadata": {
        "id": "02xytOkywdNP"
      },
      "source": [
        "## Import Necessary Libraries"
      ]
    },
    {
      "cell_type": "code",
      "metadata": {
        "id": "WXXL80xBwsmO"
      },
      "source": [],
      "execution_count": null,
      "outputs": []
    },
    {
      "cell_type": "markdown",
      "metadata": {
        "id": "E67iq_txwjG7"
      },
      "source": [
        "## Load the data\n",
        "Display the first 5 rows of the data after loading."
      ]
    },
    {
      "cell_type": "code",
      "metadata": {
        "id": "IMxjdKspwte8"
      },
      "source": [],
      "execution_count": null,
      "outputs": []
    },
    {
      "cell_type": "markdown",
      "metadata": {
        "id": "qcHv55CYwxEJ"
      },
      "source": [
        "## Perform Basic Exploratory Data Analysis (EDA)"
      ]
    },
    {
      "cell_type": "code",
      "metadata": {
        "id": "SrmF4gc0w4Mw"
      },
      "source": [],
      "execution_count": null,
      "outputs": []
    },
    {
      "cell_type": "markdown",
      "metadata": {
        "id": "wjVkRI8Ww_Dt"
      },
      "source": [
        "## Split the data into Train and Test Sets\n",
        "The train to test ratio should be 80:20 and the random_state should be 0."
      ]
    },
    {
      "cell_type": "code",
      "metadata": {
        "id": "695_m3O_xAB7"
      },
      "source": [],
      "execution_count": null,
      "outputs": []
    },
    {
      "cell_type": "markdown",
      "metadata": {
        "id": "E9IXxMAbxD1l"
      },
      "source": [
        "# Task 2"
      ]
    },
    {
      "cell_type": "markdown",
      "metadata": {
        "id": "M40CZHTjxJvx"
      },
      "source": [
        "## Use Random Forest Machine Learning Model for prediction"
      ]
    },
    {
      "cell_type": "code",
      "metadata": {
        "id": "4Is4goaUxI_X"
      },
      "source": [],
      "execution_count": null,
      "outputs": []
    },
    {
      "cell_type": "markdown",
      "metadata": {
        "id": "068bNsXIxLkk"
      },
      "source": [
        "## Evaluate the model using Accuracy Score"
      ]
    },
    {
      "cell_type": "code",
      "metadata": {
        "id": "N22pkmAxxOPq"
      },
      "source": [],
      "execution_count": null,
      "outputs": []
    },
    {
      "cell_type": "markdown",
      "metadata": {
        "id": "1DPa2KUSxSF4"
      },
      "source": [
        "# Task 3: Explaining the model with SHAP and Lime."
      ]
    },
    {
      "cell_type": "markdown",
      "metadata": {
        "id": "ShtRvAXDxUjm"
      },
      "source": [
        "##  Use a SHAP Explainer to derive SHAP Values for the random forest ml model."
      ]
    },
    {
      "cell_type": "code",
      "metadata": {
        "id": "8b0EY7L3xZZA"
      },
      "source": [],
      "execution_count": null,
      "outputs": []
    },
    {
      "cell_type": "markdown",
      "metadata": {
        "id": "pipQpfH3xlpU"
      },
      "source": [
        "## Write your inferences from the generated plot."
      ]
    },
    {
      "cell_type": "markdown",
      "metadata": {
        "id": "Nj-DHxozjlwg"
      },
      "source": []
    },
    {
      "cell_type": "markdown",
      "metadata": {
        "id": "ZBPBaG8AxnoJ"
      },
      "source": [
        "# Task 4"
      ]
    },
    {
      "cell_type": "markdown",
      "metadata": {
        "id": "CBUjZgWTyNC8"
      },
      "source": [
        "## Plot a SHAP force plot for the first row of test data."
      ]
    },
    {
      "cell_type": "code",
      "metadata": {
        "id": "_cu_8eQZjqEF"
      },
      "source": [],
      "execution_count": null,
      "outputs": []
    },
    {
      "cell_type": "markdown",
      "metadata": {
        "id": "RmiugjroyPDa"
      },
      "source": [
        "## Write your inferences from the generated plot."
      ]
    },
    {
      "cell_type": "markdown",
      "metadata": {
        "id": "GRDF98fWz6M7"
      },
      "source": []
    },
    {
      "cell_type": "markdown",
      "metadata": {
        "id": "NUpEvLwoyRUL"
      },
      "source": [
        "# Task 5"
      ]
    },
    {
      "cell_type": "markdown",
      "metadata": {
        "id": "UkSjhaoAyUqL"
      },
      "source": [
        "## Plot a SHAP force plot for all the rows of the data"
      ]
    },
    {
      "cell_type": "code",
      "metadata": {
        "id": "uDyHz2vZyXYo"
      },
      "source": [],
      "execution_count": null,
      "outputs": []
    },
    {
      "cell_type": "markdown",
      "metadata": {
        "id": "W10HjdmNyXuA"
      },
      "source": [
        "## Write your inferences from the generated plot."
      ]
    },
    {
      "cell_type": "markdown",
      "metadata": {
        "id": "dp6dMa2cyZ3B"
      },
      "source": []
    },
    {
      "cell_type": "markdown",
      "metadata": {
        "id": "TrwTdCEfyaWI"
      },
      "source": [
        "# Task 6"
      ]
    },
    {
      "cell_type": "markdown",
      "metadata": {
        "id": "VEjArZRnycwl"
      },
      "source": [
        "## Plot a SHAP summary plot using all the features in the data"
      ]
    },
    {
      "cell_type": "code",
      "metadata": {
        "id": "0JcaXBsMyemo"
      },
      "source": [],
      "execution_count": null,
      "outputs": []
    },
    {
      "cell_type": "markdown",
      "metadata": {
        "id": "zamyaErmyfBe"
      },
      "source": [
        "## Write your inferences from the generated plot."
      ]
    },
    {
      "cell_type": "markdown",
      "metadata": {
        "id": "40SCGH3hywJL"
      },
      "source": []
    },
    {
      "cell_type": "markdown",
      "metadata": {
        "id": "xcYl9HDrywgn"
      },
      "source": [
        "# Task 7"
      ]
    },
    {
      "cell_type": "markdown",
      "metadata": {
        "id": "3KLFEeOXkUNp"
      },
      "source": [
        "##Plot a SHAP dependecne plot using all features in the data"
      ]
    },
    {
      "cell_type": "code",
      "metadata": {
        "id": "ZCR9qFN0D3Yk"
      },
      "source": [],
      "execution_count": null,
      "outputs": []
    },
    {
      "cell_type": "markdown",
      "metadata": {
        "id": "H7D18vkMy0k5"
      },
      "source": [
        "## Write your inferences from the generated plot."
      ]
    },
    {
      "cell_type": "markdown",
      "metadata": {
        "id": "Vj214lRJz8aV"
      },
      "source": []
    },
    {
      "cell_type": "markdown",
      "metadata": {
        "id": "rXLEOFQ7y3fs"
      },
      "source": [
        "# Task 8 (Optional)"
      ]
    },
    {
      "cell_type": "markdown",
      "metadata": {
        "id": "mlHsSBsNy6R8"
      },
      "source": [
        "## Do anything and everything with SHAP\n",
        "This is the section to explore what more you can do with SHAP. Create some meaningful visualisations and write down what you can infer from them. \n",
        "\n",
        "Who knows, this section might carry some bonus points."
      ]
    }
  ]
}